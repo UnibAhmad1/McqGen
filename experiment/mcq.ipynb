{
 "cells": [
  {
   "cell_type": "code",
   "execution_count": 1,
   "id": "5230bf96",
   "metadata": {},
   "outputs": [],
   "source": [
    "import os\n",
    "import pandas as pd\n",
    "import json\n",
    "import traceback\n",
    "import PyPDF2\n",
    "import requests"
   ]
  },
  {
   "cell_type": "code",
   "execution_count": 2,
   "id": "5aa87e54",
   "metadata": {},
   "outputs": [
    {
     "name": "stdout",
     "output_type": "stream",
     "text": [
      "0.34.4\n"
     ]
    }
   ],
   "source": [
    "import huggingface_hub\n",
    "print(huggingface_hub.__version__)"
   ]
  },
  {
   "cell_type": "code",
   "execution_count": 3,
   "id": "bf295d29",
   "metadata": {},
   "outputs": [],
   "source": [
    "# from langchain_community.llms import HuggingFaceHub\n",
    "from langchain.prompts import PromptTemplate\n",
    "from langchain.chains import LLMChain\n",
    "from langchain.chains import SequentialChain\n",
    "from langchain_core.language_models import BaseLLM\n",
    "from langchain_core.outputs import LLMResult\n",
    "from langchain_community.llms import Ollama"
   ]
  },
  {
   "cell_type": "code",
   "execution_count": 4,
   "id": "65dbd377",
   "metadata": {},
   "outputs": [
    {
     "name": "stdout",
     "output_type": "stream",
     "text": [
      "True\n",
      "c:\\Users\\uniba\\McqGen\\experiment\n"
     ]
    }
   ],
   "source": [
    "print(os.path.isfile(r\"C:\\Users\\uniba\\McqGen\\.env\"))\n",
    "print(os.getcwd())"
   ]
  },
  {
   "cell_type": "code",
   "execution_count": 5,
   "id": "71c305fa",
   "metadata": {},
   "outputs": [],
   "source": [
    "from dotenv import load_dotenv\n",
    "\n",
    "load_dotenv(r\"C:\\Users\\uniba\\McqGen\\.env\")\n",
    "KEY=os.getenv(\"HUGGINGFACEHUB_API_TOKEN\")"
   ]
  },
  {
   "cell_type": "code",
   "execution_count": 6,
   "id": "0d59eca5",
   "metadata": {},
   "outputs": [
    {
     "name": "stderr",
     "output_type": "stream",
     "text": [
      "C:\\Users\\uniba\\AppData\\Local\\Temp\\ipykernel_9472\\771404339.py:1: LangChainDeprecationWarning: The class `Ollama` was deprecated in LangChain 0.3.1 and will be removed in 1.0.0. An updated version of the class exists in the :class:`~langchain-ollama package and should be used instead. To use it run `pip install -U :class:`~langchain-ollama` and import as `from :class:`~langchain_ollama import OllamaLLM``.\n",
      "  llm = Ollama(model=\"tinyllama\")\n"
     ]
    }
   ],
   "source": [
    "llm = Ollama(model=\"tinyllama\")"
   ]
  },
  {
   "cell_type": "code",
   "execution_count": 7,
   "id": "79b91600",
   "metadata": {},
   "outputs": [],
   "source": [
    "# from langchain_core.language_models import BaseLLM\n",
    "# from langchain_core.outputs import LLMResult, Generation\n",
    "# from pydantic import Field\n",
    "\n",
    "# class SimpleHuggingFace(BaseLLM):\n",
    "#     api_token: str = Field()  # ← Add this instead of __init__\n",
    "    \n",
    "#     def _generate(self, prompts, stop=None, run_manager=None):\n",
    "#         responses = []\n",
    "#         for prompt in prompts:\n",
    "#             response = requests.post( \n",
    "#                 \"https://api-inference.huggingface.co/models/google/flan-t5-large\",\n",
    "#                 headers={\"Authorization\": f\"Bearer {self.api_token}\"},\n",
    "#                 json={\"inputs\": prompt, \"parameters\": {\"max_length\": 800, \"temperature\": 0.7}}\n",
    "#             )\n",
    "#             text = response.json()[0]['generated_text']\n",
    "#             responses.append(Generation(text=text))\n",
    "#         return LLMResult(generations=[responses])\n",
    "    \n",
    "#     @property\n",
    "#     def _llm_type(self) -> str:\n",
    "#         return \"huggingface\""
   ]
  },
  {
   "cell_type": "code",
   "execution_count": 8,
   "id": "c14bcfec",
   "metadata": {},
   "outputs": [],
   "source": [
    "# class SimpleHuggingFace:\n",
    "#     def __init__(self, api_token):\n",
    "#         self.api_token = api_token\n",
    "    \n",
    "#     def __call__(self, prompt):\n",
    "#         response = requests.post(\n",
    "#             \"https://api-inference.huggingface.co/models/mistralai/Mistral-7B-v0.1\",\n",
    "#             headers={\"Authorization\": f\"Bearer {self.api_token}\"},\n",
    "#             json={\"inputs\": prompt, \"parameters\": {\"max_length\": 800, \"temperature\": 0.7}}\n",
    "#         )\n",
    "        \n",
    "#         # ADD THESE 2 LINES FOR ERROR HANDLING:\n",
    "#         if response.status_code != 200:\n",
    "#             return f\"API Error: {response.text}\"\n",
    "        \n",
    "#         return response.json()[0]['generated_text']"
   ]
  },
  {
   "cell_type": "code",
   "execution_count": 9,
   "id": "4dbd34b5",
   "metadata": {},
   "outputs": [],
   "source": [
    "# llm=HuggingFaceHub(\n",
    "#     repo_id = \"mistralai/Mistral-7B-v0.1\",\n",
    "#     model_kwargs={\"temperature\": 0.7, \"max_length\": 800},\n",
    "#     huggingfacehub_api_token=KEY\n",
    "# )"
   ]
  },
  {
   "cell_type": "code",
   "execution_count": 10,
   "id": "7408587b",
   "metadata": {},
   "outputs": [],
   "source": [
    "RESPONSE_JSON = {\n",
    "    \"1\": {\n",
    "        \"mcq\": \"multiple choice question\",\n",
    "        \"options\": {\n",
    "            \"a\": \"choice here\",\n",
    "            \"b\": \"choice here\",\n",
    "            \"c\": \"choice here\",\n",
    "            \"d\": \"choice here\",\n",
    "        },\n",
    "        \"correct\": \"correct answer\",\n",
    "    },\n",
    "    \"2\": {\n",
    "        \"mcq\": \"multiple choice question\",\n",
    "        \"options\": {\n",
    "            \"a\": \"choice here\",\n",
    "            \"b\": \"choice here\",\n",
    "            \"c\": \"choice here\",\n",
    "            \"d\": \"choice here\",\n",
    "        },\n",
    "        \"correct\": \"correct answer\",\n",
    "    },\n",
    "    \"3\": {\n",
    "        \"mcq\": \"multiple choice question\",\n",
    "        \"options\": {\n",
    "            \"a\": \"choice here\",\n",
    "            \"b\": \"choice here\",\n",
    "            \"c\": \"choice here\",\n",
    "            \"d\": \"choice here\",\n",
    "        },\n",
    "        \"correct\": \"correct answer\",\n",
    "    },\n",
    "}"
   ]
  },
  {
   "cell_type": "code",
   "execution_count": 11,
   "id": "0bed4d8e",
   "metadata": {},
   "outputs": [],
   "source": [
    "Template=\"\"\"\n",
    "You are a **master quiz architect** hired to design a dazzling set of {number} multiple-choice questions.\n",
    "\n",
    "Theme: **{subject}**\n",
    "Difficulty Target: **{levels}**\n",
    "\n",
    "Source material for inspiration:\n",
    "---------------------------------\n",
    "{text}\n",
    "---------------------------------\n",
    "\n",
    " **Your Mission**\n",
    "Craft questions that:\n",
    "1. Spark curiosity and test true understanding—no simple fact-recall.\n",
    "2. Each question must have exactly 4 distinct options (A–D), with one correct answer.\n",
    "3. Mix question types: conceptual, application, or a tiny real-world twist when possible.\n",
    "\n",
    "🖼 **Formatting Canvas**\n",
    "Respond *only* in valid JSON that matches this exact skeleton:\n",
    "{response_json}\n",
    "\n",
    " Tips for Style\n",
    "- Make the wrong answers *plausible* to challenge learners.\n",
    "- Keep language concise and friendly, like a great teacher setting an exciting quiz.\n",
    "- Vary question openings: “Which statement…”, “What would happen if…”, “Identify the…”, etc.\n",
    "\n",
    "Deliver a JSON array that a program can parse immediately—no extra commentary.\n",
    "\"\"\"\"\"\"\"\"\""
   ]
  },
  {
   "cell_type": "code",
   "execution_count": 12,
   "id": "0728b994",
   "metadata": {},
   "outputs": [],
   "source": [
    "quiz_prompt = PromptTemplate(\n",
    "    input_variables=[\"text\", \"subject\", \"levels\", \"number\", \"response_json\"],\n",
    "    template=Template\n",
    ")"
   ]
  },
  {
   "cell_type": "code",
   "execution_count": 13,
   "id": "9c3aa484",
   "metadata": {},
   "outputs": [
    {
     "name": "stderr",
     "output_type": "stream",
     "text": [
      "C:\\Users\\uniba\\AppData\\Local\\Temp\\ipykernel_9472\\3800351965.py:1: LangChainDeprecationWarning: The class `LLMChain` was deprecated in LangChain 0.1.17 and will be removed in 1.0. Use :meth:`~RunnableSequence, e.g., `prompt | llm`` instead.\n",
      "  quiz_chain=LLMChain(llm=llm, prompt=quiz_prompt, output_key=\"quiz\", verbose=True)\n"
     ]
    }
   ],
   "source": [
    "\n",
    "quiz_chain=LLMChain(llm=llm, prompt=quiz_prompt, output_key=\"quiz\", verbose=True)"
   ]
  },
  {
   "cell_type": "code",
   "execution_count": 14,
   "id": "57a8682f",
   "metadata": {},
   "outputs": [],
   "source": [
    "Template2=\"\"\"\n",
    "You are an expert english grammarian and writer. Given a Multiple Choice Quiz for {subject} students.\\\n",
    "You need to evaluate the complexity of the question and give a complete analysis of the quiz. Only use at max 50 words for complexity analysis. \n",
    "if the quiz is not at per with the cognitive and analytical abilities of the students,\\\n",
    "update the quiz questions which needs to be changed and change the tone such that it perfectly fits the student abilities\n",
    "Quiz_MCQs:\n",
    "{quiz}\n",
    "\n",
    "Check from an expert English Writer of the above quiz:\n",
    "\"\"\""
   ]
  },
  {
   "cell_type": "code",
   "execution_count": 15,
   "id": "786a88a2",
   "metadata": {},
   "outputs": [],
   "source": [
    "quiz_review_prompt=PromptTemplate(\n",
    "    input_variables=[\"subject\", \"quiz\"],\n",
    "    template=Template2\n",
    ")"
   ]
  },
  {
   "cell_type": "code",
   "execution_count": 16,
   "id": "38162d66",
   "metadata": {},
   "outputs": [],
   "source": [
    "review_chain=LLMChain(llm=llm, prompt=quiz_review_prompt, verbose=True, output_key=\"review\")"
   ]
  },
  {
   "cell_type": "code",
   "execution_count": 17,
   "id": "5f8fd5ef",
   "metadata": {},
   "outputs": [],
   "source": [
    "generate_evaluate_chain=SequentialChain(\n",
    "    chains=[quiz_chain, review_chain],\n",
    "    input_variables=[\"text\", \"subject\", \"levels\", \"number\", \"response_json\"],\n",
    "    output_variables=[\"quiz\", \"review\"],\n",
    "    verbose=True\n",
    ")"
   ]
  },
  {
   "cell_type": "code",
   "execution_count": 18,
   "id": "90f857f4",
   "metadata": {},
   "outputs": [],
   "source": [
    "file_path=r\"C:\\Users\\uniba\\McqGen\\data.txt\""
   ]
  },
  {
   "cell_type": "code",
   "execution_count": 19,
   "id": "800690d0",
   "metadata": {},
   "outputs": [],
   "source": [
    "with open (file_path, 'r') as file:\n",
    "    TEXT = file.read()"
   ]
  },
  {
   "cell_type": "code",
   "execution_count": 20,
   "id": "97ccdbb4",
   "metadata": {},
   "outputs": [
    {
     "data": {
      "text/plain": [
       "'{\"1\": {\"mcq\": \"multiple choice question\", \"options\": {\"a\": \"choice here\", \"b\": \"choice here\", \"c\": \"choice here\", \"d\": \"choice here\"}, \"correct\": \"correct answer\"}, \"2\": {\"mcq\": \"multiple choice question\", \"options\": {\"a\": \"choice here\", \"b\": \"choice here\", \"c\": \"choice here\", \"d\": \"choice here\"}, \"correct\": \"correct answer\"}, \"3\": {\"mcq\": \"multiple choice question\", \"options\": {\"a\": \"choice here\", \"b\": \"choice here\", \"c\": \"choice here\", \"d\": \"choice here\"}, \"correct\": \"correct answer\"}}'"
      ]
     },
     "execution_count": 20,
     "metadata": {},
     "output_type": "execute_result"
    }
   ],
   "source": [
    "json.dumps(RESPONSE_JSON) # Serialize the dictionary into json formatted string"
   ]
  },
  {
   "cell_type": "code",
   "execution_count": 21,
   "id": "3339426c",
   "metadata": {},
   "outputs": [],
   "source": [
    "NUMBER=5\n",
    "SUBJECT=\"chemistry\"\n",
    "LEVEL=\"simple\""
   ]
  },
  {
   "cell_type": "code",
   "execution_count": 22,
   "id": "9198be33",
   "metadata": {},
   "outputs": [
    {
     "name": "stderr",
     "output_type": "stream",
     "text": [
      "C:\\Users\\uniba\\AppData\\Local\\Temp\\ipykernel_9472\\1440702647.py:1: LangChainDeprecationWarning: The method `Chain.__call__` was deprecated in langchain 0.1.0 and will be removed in 1.0. Use :meth:`~invoke` instead.\n",
      "  response=generate_evaluate_chain(\n"
     ]
    },
    {
     "name": "stdout",
     "output_type": "stream",
     "text": [
      "\n",
      "\n",
      "\u001b[1m> Entering new SequentialChain chain...\u001b[0m\n",
      "\n",
      "\n",
      "\u001b[1m> Entering new LLMChain chain...\u001b[0m\n",
      "Prompt after formatting:\n",
      "\u001b[32;1m\u001b[1;3m\n",
      "You are a **master quiz architect** hired to design a dazzling set of 5 multiple-choice questions.\n",
      "\n",
      "Theme: **chemistry**\n",
      "Difficulty Target: **simple**\n",
      "\n",
      "Source material for inspiration:\n",
      "---------------------------------\n",
      "Chemistry is the scientific study of the properties and behavior of matter.[1][2] It is a physical science within the natural sciences that studies the chemical elements that make up matter and compounds made of atoms, molecules and ions: their composition, structure, properties, behavior and the changes they undergo during reactions with other substances.[3][4][5][6] Chemistry also addresses the nature of chemical bonds in chemical compounds.\n",
      "\n",
      "In the scope of its subject, chemistry occupies an intermediate position between physics and biology.[7] It is sometimes called the central science because it provides a foundation for understanding both basic and applied scientific disciplines at a fundamental level.[8] For example, chemistry explains aspects of plant growth (botany), the formation of igneous rocks (geology), how atmospheric ozone is formed and how environmental pollutants are degraded (ecology), the properties of the soil on the Moon (cosmochemistry), how medications work (pharmacology), and how to collect DNA evidence at a crime scene (forensics).\n",
      "\n",
      "Chemistry has existed under various names since ancient times.[9] It has evolved, and now chemistry encompasses various areas of specialisation, or subdisciplines, that continue to increase in number and interrelate to create further interdisciplinary fields of study. The applications of various fields of chemistry are used frequently for economic purposes in the chemical industry.\n",
      "The current model of atomic structure is the quantum mechanical model.[14] Traditional chemistry starts with the study of elementary particles, atoms, molecules,[15] substances, metals, crystals and other aggregates of matter. Matter can be studied in solid, liquid, gas and plasma states, in isolation or in combination. The interactions, reactions and transformations that are studied in chemistry are usually the result of interactions between atoms, leading to rearrangements of the chemical bonds which hold atoms together. Such behaviors are studied in a chemistry laboratory.\n",
      "\n",
      "The chemistry laboratory stereotypically uses various forms of laboratory glassware. However glassware is not central to chemistry, and a great deal of experimental (as well as applied/industrial) chemistry is done without it.\n",
      "The atom is the basic unit of chemistry. It consists of a dense core called the atomic nucleus surrounded by a space occupied by an electron cloud. The nucleus is made up of positively charged protons and uncharged neutrons (together called nucleons), while the electron cloud consists of negatively charged electrons which orbit the nucleus. In a neutral atom, the negatively charged electrons balance out the positive charge of the protons. The nucleus is dense; the mass of a nucleon is approximately 1,836 times that of an electron, yet the radius of an atom is about 10,000 times that of its nucleus.[20][21]\n",
      "\n",
      "The atom is also the smallest entity that can be envisaged to retain the chemical properties of the element, such as electronegativity, ionization potential, preferred oxidation state(s), coordination number, and preferred types of bonds to form (e.g., metallic, ionic, covalent).\n",
      "A chemical element is a pure substance which is composed of a single type of atom, characterized by its particular number of protons in the nuclei of its atoms, known as the atomic number and represented by the symbol Z. The mass number is the sum of the number of protons and neutrons in a nucleus. Although all the nuclei of all atoms belonging to one element will have the same atomic number, they may not necessarily have the same mass number; atoms of an element which have different mass numbers are known as isotopes. For example, all atoms with 6 protons in their nuclei are atoms of the chemical element carbon, but atoms of carbon may have mass numbers of 12 or 13.[21]\n",
      "\n",
      "The standard presentation of the chemical elements is in the periodic table, which orders elements by atomic number. The periodic table is arranged in groups, or columns, and periods, or rows. The periodic table is useful in identifying periodic trends.[22]\n",
      "A compound is a pure chemical substance composed of more than one element. The properties of a compound bear little similarity to those of its elements.[23] The standard nomenclature of compounds is set by the International Union of Pure and Applied Chemistry (IUPAC). Organic compounds are named according to the organic nomenclature system.[24] The names for inorganic compounds are created according to the inorganic nomenclature system. When a compound has more than one component, then they are divided into two classes, the electropositive and the electronegative components.[25] In addition the Chemical Abstracts Service (CAS) has devised a method to index chemical substances. In this scheme each chemical substance is identifiable by a number known as its CAS registry number.\n",
      "\n",
      "A molecule is the smallest indivisible portion of a pure chemical substance that has its unique set of chemical properties, that is, its potential to undergo a certain set of chemical reactions with other substances. However, this definition only works well for substances that are composed of molecules, which is not true of many substances (see below). Molecules are typically a set of atoms bound together by covalent bonds, such that the structure is electrically neutral and all valence electrons are paired with other electrons either in bonds or in lone pairs.\n",
      "\n",
      "Thus, molecules exist as electrically neutral units, unlike ions. When this rule is broken, giving the \"molecule\" a charge, the result is sometimes named a molecular ion or a polyatomic ion. However, the discrete and separate nature of the molecular concept usually requires that molecular ions be present only in well-separated form, such as a directed beam in a vacuum in a mass spectrometer. Charged polyatomic collections residing in solids (for example, common sulfate or nitrate ions) are generally not considered \"molecules\" in chemistry. Some molecules contain one or more unpaired electrons, creating radicals. Most radicals are comparatively reactive, but some, such as nitric oxide (NO) can be stable.\n",
      "---------------------------------\n",
      "\n",
      " **Your Mission**\n",
      "Craft questions that:\n",
      "1. Spark curiosity and test true understanding—no simple fact-recall.\n",
      "2. Each question must have exactly 4 distinct options (A–D), with one correct answer.\n",
      "3. Mix question types: conceptual, application, or a tiny real-world twist when possible.\n",
      "\n",
      "🖼 **Formatting Canvas**\n",
      "Respond *only* in valid JSON that matches this exact skeleton:\n",
      "{\"1\": {\"mcq\": \"multiple choice question\", \"options\": {\"a\": \"choice here\", \"b\": \"choice here\", \"c\": \"choice here\", \"d\": \"choice here\"}, \"correct\": \"correct answer\"}, \"2\": {\"mcq\": \"multiple choice question\", \"options\": {\"a\": \"choice here\", \"b\": \"choice here\", \"c\": \"choice here\", \"d\": \"choice here\"}, \"correct\": \"correct answer\"}, \"3\": {\"mcq\": \"multiple choice question\", \"options\": {\"a\": \"choice here\", \"b\": \"choice here\", \"c\": \"choice here\", \"d\": \"choice here\"}, \"correct\": \"correct answer\"}}\n",
      "\n",
      " Tips for Style\n",
      "- Make the wrong answers *plausible* to challenge learners.\n",
      "- Keep language concise and friendly, like a great teacher setting an exciting quiz.\n",
      "- Vary question openings: “Which statement…”, “What would happen if…”, “Identify the…”, etc.\n",
      "\n",
      "Deliver a JSON array that a program can parse immediately—no extra commentary.\n",
      "\u001b[0m\n",
      "\n",
      "\u001b[1m> Finished chain.\u001b[0m\n",
      "\n",
      "\n",
      "\u001b[1m> Entering new LLMChain chain...\u001b[0m\n",
      "Prompt after formatting:\n",
      "\u001b[32;1m\u001b[1;3m\n",
      "You are an expert english grammarian and writer. Given a Multiple Choice Quiz for chemistry students.You need to evaluate the complexity of the question and give a complete analysis of the quiz. Only use at max 50 words for complexity analysis. \n",
      "if the quiz is not at per with the cognitive and analytical abilities of the students,update the quiz questions which needs to be changed and change the tone such that it perfectly fits the student abilities\n",
      "Quiz_MCQs:\n",
      "To deliver a well-structured and valid JSON array for your quiz, here's an example with the correct skeleton:\n",
      "\n",
      "```json\n",
      "[\n",
      "    {\n",
      "        \"mcq\": \"multiple choice question\",\n",
      "        \"options\": [\n",
      "            {\"a\": \"choice here\", \"b\": \"choice here\", \"c\": \"choice here\", \"d\": \"choice here\"},\n",
      "            {\"a\": \"choice here\", \"b\": \"choice here\", \"c\": \"choice here\", \"d\": \"choice here\"},\n",
      "            {\"a\": \"choice here\", \"b\": \"choice here\", \"c\": \"choice here\", \"d\": \"choice here\"}\n",
      "        ],\n",
      "        \"correct\": \"correct answer\"\n",
      "    },\n",
      "    {\n",
      "        \"mcq\": \"multiple choice question\",\n",
      "        \"options\": [\n",
      "            {\"a\": \"choice here\", \"b\": \"choice here\", \"c\": \"choice here\", \"d\": \"choice here\"},\n",
      "            {\"a\": \"choice here\", \"b\": \"choice here\", \"c\": \"choice here\", \"d\": \"choice here\"},\n",
      "            {\"a\": \"choice here\", \"b\": \"choice here\", \"c\": \"choice here\", \"d\": \"choice here\"}\n",
      "        ],\n",
      "        \"correct\": \"correct answer\"\n",
      "    },\n",
      "    {\n",
      "        \"mcq\": \"multiple choice question\",\n",
      "        \"options\": [\n",
      "            {\"a\": \"choice here\", \"b\": \"choice here\", \"c\": \"choice here\", \"d\": \"choice here\"},\n",
      "            {\"a\": \"choice here\", \"b\": \"choice here\", \"c\": \"choice here\", \"d\": \"choice here\"},\n",
      "            {\"a\": \"choice here\", \"b\": \"choice here\", \"c\": \"choice here\", \"d\": \"choice here\"}\n",
      "        ],\n",
      "        \"correct\": \"correct answer\"\n",
      "    },\n",
      "]\n",
      "```\n",
      "\n",
      "Here, each question has four options (with an a, b, c, and d) and the correct answer. The `mcq` key identifies the type of multiple-choice question (`multiple choice question`) while the `options` array contains each option along with its corresponding label (`a`, `b`, `c`, or `d`). Finally, the `\"correct\"` key specifies the correct response for each question.\n",
      "\n",
      "Check from an expert English Writer of the above quiz:\n",
      "\u001b[0m\n",
      "\n",
      "\u001b[1m> Finished chain.\u001b[0m\n",
      "\n",
      "\u001b[1m> Finished chain.\u001b[0m\n"
     ]
    }
   ],
   "source": [
    "response=generate_evaluate_chain(\n",
    "    {\n",
    "        \"text\": TEXT,\n",
    "        \"subject\": SUBJECT,\n",
    "        \"levels\": LEVEL,\n",
    "        \"number\": NUMBER,\n",
    "        \"response_json\": json.dumps(RESPONSE_JSON)\n",
    "    }\n",
    "    )"
   ]
  },
  {
   "cell_type": "code",
   "execution_count": 24,
   "id": "89e778c3",
   "metadata": {},
   "outputs": [
    {
     "name": "stdout",
     "output_type": "stream",
     "text": [
      "AI didn't return valid JSON. Raw output:\n",
      "To deliver a well-structured and valid JSON array for your quiz, here's an example with the correct skeleton:\n",
      "\n",
      "```json\n",
      "[\n",
      "    {\n",
      "        \"mcq\": \"multiple choice question\",\n",
      "        \"options\": [\n",
      "            {\"a\": \"choice here\", \"b\": \"choice here\", \"c\": \"choice here\", \"d\": \"choice here\"},\n",
      "            {\"a\": \"choice here\", \"b\": \"choice here\", \"c\": \"choice here\", \"d\": \"choice here\"},\n",
      "            {\"a\": \"choice here\", \"b\": \"choice here\", \"c\": \"choice here\", \"d\": \"choice here\"}\n",
      "        ],\n",
      "        \"correct\": \"correct answer\"\n",
      "    },\n",
      "    {\n",
      "        \"mcq\": \"multiple choice question\",\n",
      "        \"options\": [\n",
      "            {\"a\": \"choice here\", \"b\": \"choice here\", \"c\": \"choice here\", \"d\": \"choice here\"},\n",
      "            {\"a\": \"choice here\", \"b\": \"choice here\", \"c\": \"choice here\", \"d\": \"choice here\"},\n",
      "            {\"a\": \"choice here\", \"b\": \"choice here\", \"c\": \"choice here\", \"d\": \"choice here\"}\n",
      "        ],\n",
      "        \"correct\": \"correct answer\"\n",
      "    },\n",
      "    {\n",
      "        \"mcq\": \"multiple choice question\",\n",
      "        \"options\": [\n",
      "            {\"a\": \"choice here\", \"b\": \"choice here\", \"c\": \"choice here\", \"d\": \"choice here\"},\n",
      "            {\"a\": \"choice here\", \"b\": \"choice here\", \"c\": \"choice here\", \"d\": \"choice here\"},\n",
      "            {\"a\": \"choice here\", \"b\": \"choice here\", \"c\": \"choice here\", \"d\": \"choice here\"}\n",
      "        ],\n",
      "        \"correct\": \"correct answer\"\n",
      "    },\n",
      "]\n",
      "```\n",
      "\n",
      "Here, each question has four options (with an a, b, c, and d) and the correct answer. The `mcq` key identifies the type of multiple-choice question (`multiple choice question`) while the `options` array contains each option along with its corresponding label (`a`, `b`, `c`, or `d`). Finally, the `\"correct\"` key specifies the correct response for each question.\n"
     ]
    }
   ],
   "source": [
    "quiz_str = response.get(\"quiz\")\n",
    "\n",
    "# ADD THIS ERROR HANDLING:\n",
    "try:\n",
    "    quiz_dict = json.loads(quiz_str)\n",
    "except json.JSONDecodeError:\n",
    "    print(\"AI didn't return valid JSON. Raw output:\")\n",
    "    print(quiz_str)\n",
    "    quiz_dict = {}  # Empty dictionary to prevent crash\n",
    "\n",
    "quiz_table_data = []\n",
    "for key, value in quiz_dict.items():\n",
    "    mcq = value[\"mcq\"]\n",
    "    options = \" | \".join(\n",
    "        [\n",
    "            f\"{option}: {option_value}\"\n",
    "            for option, option_value in value[\"options\"].items()\n",
    "            ]\n",
    "        )\n",
    "    correct = value[\"correct\"]\n",
    "    quiz_table_data.append({\"MCQ\": mcq, \"Choices\": options, \"Correct\": correct})\n",
    "\n",
    "df=pd.DataFrame(quiz_table_data)"
   ]
  },
  {
   "cell_type": "code",
   "execution_count": null,
   "id": "676800d7",
   "metadata": {},
   "outputs": [],
   "source": []
  }
 ],
 "metadata": {
  "kernelspec": {
   "display_name": "Python 3",
   "language": "python",
   "name": "python3"
  },
  "language_info": {
   "codemirror_mode": {
    "name": "ipython",
    "version": 3
   },
   "file_extension": ".py",
   "mimetype": "text/x-python",
   "name": "python",
   "nbconvert_exporter": "python",
   "pygments_lexer": "ipython3",
   "version": "3.12.4"
  }
 },
 "nbformat": 4,
 "nbformat_minor": 5
}
